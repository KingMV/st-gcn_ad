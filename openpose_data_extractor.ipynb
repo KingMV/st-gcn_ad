{
 "cells": [
  {
   "cell_type": "code",
   "execution_count": 1,
   "metadata": {},
   "outputs": [
    {
     "data": {
      "text/html": [
       "<style>.container { width:77% !important; }</style>"
      ],
      "text/plain": [
       "<IPython.core.display.HTML object>"
      ]
     },
     "metadata": {},
     "output_type": "display_data"
    }
   ],
   "source": [
    "from IPython.core.display import display, HTML\n",
    "display(HTML(\"<style>.container { width:77% !important; }</style>\"))\n",
    "%matplotlib inline\n",
    "%load_ext autoreload\n",
    "%autoreload 2"
   ]
  },
  {
   "cell_type": "code",
   "execution_count": 2,
   "metadata": {},
   "outputs": [],
   "source": [
    "import os\n",
    "import numpy as np\n",
    "import pickle\n",
    "import matplotlib.pyplot as plt\n",
    "np.set_printoptions(linewidth=130, precision=5, suppress=True, threshold=np.inf)"
   ]
  },
  {
   "cell_type": "code",
   "execution_count": 13,
   "metadata": {},
   "outputs": [
    {
     "data": {
      "text/plain": [
       "<matplotlib.image.AxesImage at 0x7f8f6a454cc0>"
      ]
     },
     "execution_count": 13,
     "metadata": {},
     "output_type": "execute_result"
    },
    {
     "data": {
      "image/png": "[encoded data removed]",
      "text/plain": [
       "<Figure size 432x288 with 1 Axes>"
      ]
     },
     "metadata": {
      "needs_background": "light"
     },
     "output_type": "display_data"
    }
   ],
   "source": [
    "kinetics400_confusion = np.loadtxt('kinetics400_confusion.csv')\n",
    "cm = kinetics400_confusion\n",
    "normalize = True\n",
    "if normalize:\n",
    "    cm = cm.astype('float') / cm.sum(axis=1)[:, np.newaxis]\n",
    "plt.ylabel('True label')\n",
    "plt.xlabel('Predicted label')\n",
    "plt.imshow(cm, interpolation='nearest')"
   ]
  },
  {
   "cell_type": "code",
   "execution_count": 14,
   "metadata": {},
   "outputs": [],
   "source": [
    "label_name_path = '/root/sharedfolder/Research/pose_ad/st-gcn/resource/kinetics_skeleton/label_name.txt'\n",
    "with open(label_name_path, 'r') as lbl_f:\n",
    "    lbl_list = lbl_f.read().rstrip().split('\\n')"
   ]
  },
  {
   "cell_type": "code",
   "execution_count": 15,
   "metadata": {},
   "outputs": [
    {
     "name": "stdout",
     "output_type": "stream",
     "text": [
      "[134 254  88  59 336 126 255  75 148   6 260 183 270 208 318 169  77 223 245  19 280 294 305 360 306 339 310 142 399 143 140 161\n",
      "  43 358 217 356 242 283 315 230 311 330  69 172 346 225 258 348 246 273 166 235  18  99 269 393 375 179 193 182 380 171 253 364\n",
      " 298 398 147 160  56  44 164 218 202 289 326 153 351  84 275 232 156 302  68 151 234 173 376 365 240 313  31  27  87  30  45 170\n",
      " 281 262 340 286 250 312  86 323 274 237 378 192 176 221 370 239 303 207 149 243 259 116 321 337 252  15   9 354 267 247 292  55\n",
      " 301 229 201 268   5 130 341 107 167 137   7 248 367   1 108  66 334 307 349  85 329 309  34 186 244 197  40 119  24 154 162  41\n",
      "   0 141 214 359 299  22 189  42 343 256 174  57 251 105  20 103 308 146 377 383 199 233 249 352 125 163 104  93 261 159 271  91\n",
      " 338 333  39  92 387 278 220 219 135 124 335  80  16 178 363 224 395  29 388 277  95  76 180  23 209 241 282 231 332 304 127 350\n",
      "  28  38   8 227 165 121 131 394 264  70 391 279 285  51  14 168 317  97  32  60 109 296 123 284 175  50 324  12 129 205 342 139\n",
      " 204 373  89 177  65 213 389 272 396 325 145  26 322 297 344 215  54 138 263  67   3 118  78 353 150 379 206 152 371  79 345 331\n",
      " 158 385  94  37 101 368 386 369 362  10  72  47 132 133 196 361 222  36 228 114 216 120 157 117 366 226  49 328 236 187 295 382\n",
      "   2 188 115 288 102 327 316 287 212  11   4  58  53 276 384  48  61 238 392 357 257  35  46  25 195  33 122 136  82  90 198  13\n",
      "  71  17 200 203 319  81  83 111 381 128 314 194 181  74 355  63 390 265 112  52 106 372  64 190 155 191 320 397 110 113 347 100\n",
      "  98  96 144 266  73 300  62 293 211 210  21 374 290 184 185 291] 0.9583333333333334\n"
     ]
    }
   ],
   "source": [
    "cm_diag = np.diag(cm)\n",
    "cm_diag_ind_descending = np.argsort(cm_diag)[::-1]\n",
    "print(cm_diag_ind_descending, cm_diag[134])"
   ]
  },
  {
   "cell_type": "code",
   "execution_count": 16,
   "metadata": {},
   "outputs": [
    {
     "name": "stdout",
     "output_type": "stream",
     "text": [
      "[[134  44  88 399 137]\n",
      " [254 396 202 303 399]\n",
      " [ 88 330 141  20  19]\n",
      " [ 59 318 348  88 258]] \n",
      " [ 20 348 318 399 303  88 396  19 141 330 137 202 258  44]\n"
     ]
    },
    {
     "data": {
      "text/plain": [
       "['bending back20',\n",
       " 'tango dancing348',\n",
       " 'snatch weight lifting318',\n",
       " 'zumba399',\n",
       " 'sign language interpreting303',\n",
       " 'writing396',\n",
       " 'bench pressing19',\n",
       " 'golf chipping141',\n",
       " 'squat330']"
      ]
     },
     "execution_count": 16,
     "metadata": {},
     "output_type": "execute_result"
    }
   ],
   "source": [
    "# Sub matrix observing confusions around best performing classes\n",
    "# We are to evaluate which are the most confused classes for the top performers and consider them for our tests\n",
    "cm_best_performing = cm[cm_diag_ind_descending[:4]]\n",
    "cm_bp_most_conf = cm_best_performing.argsort(axis=1)[:, -5:]\n",
    "cm_bp_most_conf = cm_bp_most_conf[:, ::-1]\n",
    "uniq_most_conf = np.unique(cm_bp_most_conf[:,1:]) # Removing the classes themselves\n",
    "np.random.shuffle(uniq_most_conf)\n",
    "print(cm_bp_most_conf, '\\n', uniq_most_conf)\n",
    "\n",
    "confusing_idx = uniq_most_conf[:10]  # Taking samples from the 10 most confusing classes for our 4 \"normal\" classes\n",
    "confusing_idx = [i for i in confusing_idx if i not in [134,254,88,59]]\n",
    "confusing_idx_list = [lbl_list[i]+str(i) for i in confusing_idx]\n",
    "confusing_idx_list"
   ]
  },
  {
   "cell_type": "code",
   "execution_count": 17,
   "metadata": {},
   "outputs": [
    {
     "data": {
      "text/plain": [
       "'front raises'"
      ]
     },
     "execution_count": 17,
     "metadata": {},
     "output_type": "execute_result"
    }
   ],
   "source": [
    "lbl_counts = kinetics400_confusion\n",
    "lbl_list[134]\n",
    "# [[i, lbl_list[i]] for i in uniq_most_conf]"
   ]
  },
  {
   "cell_type": "code",
   "execution_count": 18,
   "metadata": {},
   "outputs": [],
   "source": [
    "import os\n",
    "import re"
   ]
  },
  {
   "cell_type": "code",
   "execution_count": 19,
   "metadata": {},
   "outputs": [],
   "source": [
    "data_path = dict()\n",
    "label_path = dict()\n",
    "split_indices = dict()\n",
    "data_npy = dict()\n",
    "data_pkl = dict()  # An array of [sample_name, label]"
   ]
  },
  {
   "cell_type": "code",
   "execution_count": 34,
   "metadata": {},
   "outputs": [],
   "source": [
    "data_dir_path = '/root/sharedfolder/datasets/data_ssd/kinetics-skeleton/st-gcn_kinetics/Kinetics/kinetics-skeleton/'\n",
    "test_data_path = os.path.join(data_dir_path, 'val_data.npy')\n",
    "test_label_path = os.path.join(data_dir_path, 'val_label.pkl')\n",
    "\n",
    "test_npy = np.load(test_data_path, mmap_mode='r')\n",
    "sample_name, label = pickle.load(open(test_label_path, \"rb\"))"
   ]
  },
  {
   "cell_type": "code",
   "execution_count": 53,
   "metadata": {},
   "outputs": [],
   "source": [
    "specify_classes = [94,99]\n",
    "class_indices = [i for i, lbl in enumerate(label) if lbl in specify_classes]\n",
    "sample_name_cls = [sample_name[i] for i in class_indices]\n",
    "label_cls = [label[i] for i in class_indices]\n",
    "data_cls = test_npy[class_indices]"
   ]
  },
  {
   "cell_type": "code",
   "execution_count": 60,
   "metadata": {},
   "outputs": [
    {
     "data": {
      "text/plain": [
       "100"
      ]
     },
     "execution_count": 60,
     "metadata": {},
     "output_type": "execute_result"
    }
   ],
   "source": [
    "len(data_cls)"
   ]
  },
  {
   "cell_type": "code",
   "execution_count": 21,
   "metadata": {},
   "outputs": [],
   "source": [
    "for split in ['normal_test', 'mixed_test']:\n",
    "    data_path[split]  =  os.path.join(data_dir_path, 'ad_experiment', split+'_data.npy')\n",
    "    label_path[split] =  os.path.join(data_dir_path, 'ad_experiment', split+'_label.pkl')"
   ]
  },
  {
   "cell_type": "code",
   "execution_count": 22,
   "metadata": {},
   "outputs": [],
   "source": [
    "save_files = False\n",
    "split_npy = test_npy\n",
    "split_2gen = 'abnormal_test'"
   ]
  },
  {
   "cell_type": "code",
   "execution_count": 23,
   "metadata": {},
   "outputs": [
    {
     "name": "stdout",
     "output_type": "stream",
     "text": [
      "Split bending back20, data_pkl[split][0] len=48, data_pkl[split_2gen][0] len=48\n",
      "Split tango dancing348, data_pkl[split][0] len=50, data_pkl[split_2gen][0] len=98\n",
      "Split snatch weight lifting318, data_pkl[split][0] len=49, data_pkl[split_2gen][0] len=147\n",
      "Split zumba399, data_pkl[split][0] len=45, data_pkl[split_2gen][0] len=192\n",
      "Split sign language interpreting303, data_pkl[split][0] len=48, data_pkl[split_2gen][0] len=240\n",
      "Split writing396, data_pkl[split][0] len=50, data_pkl[split_2gen][0] len=290\n",
      "Split bench pressing19, data_pkl[split][0] len=50, data_pkl[split_2gen][0] len=340\n",
      "Split golf chipping141, data_pkl[split][0] len=50, data_pkl[split_2gen][0] len=390\n",
      "Split squat330, data_pkl[split][0] len=50, data_pkl[split_2gen][0] len=440\n"
     ]
    }
   ],
   "source": [
    "# Train Split Generator\n",
    "data_pkl['abnormal_test'] = [[],[]]  # Important to zero so not to accumulate older values\n",
    "\n",
    "for split in confusing_idx_list + ['abnormal_test', 'mixed_test']:\n",
    "    data_path[split]  =  os.path.join(data_dir_path, 'ad_experiment', split+'_data.npy')\n",
    "    label_path[split] =  os.path.join(data_dir_path, 'ad_experiment', split+'_label.pkl')\n",
    "    split_num = re.findall('\\d+', split)\n",
    "    if split_num != []:\n",
    "        split_indices[split] = [ind for ind, val in enumerate(label) if val == int(split_num[0])]\n",
    "        data_npy[split] = split_npy[split_indices[split]]\n",
    "        data_pkl[split] = [[sample_name[i] for i in split_indices[split]], [label[i] for i in split_indices[split]]]\n",
    "        data_pkl[split_2gen][0] += data_pkl[split][0]\n",
    "        data_pkl[split_2gen][1] += data_pkl[split][1]\n",
    "        print(\"Split {}, data_pkl[split][0] len={}, data_pkl[split_2gen][0] len={}\".format(split, len(data_pkl[split][0]), len(data_pkl[split_2gen][0])))\n",
    "\n",
    "data_npy[split_2gen] = np.concatenate([data_npy[split_key] for split_key in confusing_idx_list])"
   ]
  },
  {
   "cell_type": "code",
   "execution_count": 24,
   "metadata": {},
   "outputs": [
    {
     "data": {
      "text/plain": [
       "(440, 3, 300, 18, 2)"
      ]
     },
     "execution_count": 24,
     "metadata": {},
     "output_type": "execute_result"
    }
   ],
   "source": [
    "data_npy[split_2gen].shape"
   ]
  },
  {
   "cell_type": "code",
   "execution_count": 25,
   "metadata": {},
   "outputs": [],
   "source": [
    "data_npy['normal_test'] = np.load(data_path['normal_test'], mmap_mode='r')\n",
    "data_pkl['normal_test'] = pickle.load(open(label_path['normal_test'], \"rb\"))"
   ]
  },
  {
   "cell_type": "code",
   "execution_count": 26,
   "metadata": {},
   "outputs": [],
   "source": [
    "data_npy['mixed_test'] = np.concatenate([data_npy[split_key] for split_key in ['normal_test', 'abnormal_test']])\n",
    "data_pkl['mixed_test'] = [[],[]]  \n",
    "data_pkl['mixed_test'][0] = data_pkl['normal_test'][0] + data_pkl['abnormal_test'][0]\n",
    "data_pkl['mixed_test'][1] = data_pkl['normal_test'][1] + data_pkl['abnormal_test'][1]"
   ]
  },
  {
   "cell_type": "code",
   "execution_count": 33,
   "metadata": {},
   "outputs": [
    {
     "name": "stdout",
     "output_type": "stream",
     "text": [
      "abnormal_test (440, 3, 300, 18, 2) 440\n",
      "normal_test   (198, 3, 300, 18, 2) 198\n",
      "mixed_test    (638, 3, 300, 18, 2) 638\n"
     ]
    }
   ],
   "source": [
    "print('abnormal_test', data_npy['abnormal_test'].shape, len(data_pkl['abnormal_test'][0]))\n",
    "print('normal_test  ', data_npy['normal_test'  ].shape, len(data_pkl['normal_test'  ][0]))\n",
    "print('mixed_test   ', data_npy['mixed_test'   ].shape, len(data_pkl['mixed_test'   ][0]))\n",
    "# print(data_pkl['mixed_test'][1])"
   ]
  },
  {
   "cell_type": "code",
   "execution_count": 31,
   "metadata": {},
   "outputs": [
    {
     "data": {
      "text/plain": [
       "'/root/sharedfolder/datasets/data_ssd/kinetics-skeleton/st-gcn_kinetics/Kinetics/kinetics-skeleton/ad_experiment/mixed_test_label.pkl'"
      ]
     },
     "execution_count": 31,
     "metadata": {},
     "output_type": "execute_result"
    }
   ],
   "source": [
    "label_path['mixed_test']"
   ]
  },
  {
   "cell_type": "code",
   "execution_count": 30,
   "metadata": {},
   "outputs": [],
   "source": [
    "if False:\n",
    "    np.save(data_path['abnormal_test'], data_npy['abnormal_test'])\n",
    "    pickle.dump(data_pkl['abnormal_test'], open(label_path['abnormal_test'] ,\"wb\"))\n",
    "if False:\n",
    "    np.save(data_path['mixed_test'], data_npy['mixed_test'])\n",
    "    pickle.dump(data_pkl['mixed_test'], open(label_path['mixed_test'] ,\"wb\"))"
   ]
  },
  {
   "cell_type": "code",
   "execution_count": 30,
   "metadata": {
    "scrolled": false
   },
   "outputs": [
    {
     "name": "stdout",
     "output_type": "stream",
     "text": [
      "68.19 7.571915213471424\n"
     ]
    }
   ],
   "source": [
    "# Parsing 4-v-all *kinetics pre-trained* results\n",
    "curr_dir = !pwd\n",
    "logdir_path = './logs/kinetics_trained_n_v_all/'\n",
    "logdir = os.listdir(logdir_path)\n",
    "logdir_dec3 = [fn for fn in logdir if fn.startswith(\"Dec3\")]\n",
    "full_logdir_dec3 = [os.path.join(curr_dir[0], logdir_path, i) for i in logdir_dec3]\n",
    "sorted_list = sorted(full_logdir_dec3, key=os.path.getmtime)[7:]\n",
    "sorted_list = [fp.rstrip('.tx').split('_')[-1] for fp in sorted_list]\n",
    "sorted_list = [fp.lstrip('auc') for fp in sorted_list]\n",
    "sorted_list = np.array([int(i) for i in sorted_list])\n",
    "sorted_list\n",
    "print(sorted_list.mean(), sorted_list.std())\n",
    "# Dec31 15:08 got Average AuC of 68.2 +- 7.57"
   ]
  }
 ],
 "metadata": {
  "kernelspec": {
   "display_name": "Python 3",
   "language": "python",
   "name": "python3"
  },
  "language_info": {
   "codemirror_mode": {
    "name": "ipython",
    "version": 3
   },
   "file_extension": ".py",
   "mimetype": "text/x-python",
   "name": "python",
   "nbconvert_exporter": "python",
   "pygments_lexer": "ipython3",
   "version": "3.5.2"
  },
  "varInspector": {
   "cols": {
    "lenName": 16,
    "lenType": 16,
    "lenVar": 40
   },
   "kernels_config": {
    "python": {
     "delete_cmd_postfix": "",
     "delete_cmd_prefix": "del ",
     "library": "var_list.py",
     "varRefreshCmd": "print(var_dic_list())"
    },
    "r": {
     "delete_cmd_postfix": ") ",
     "delete_cmd_prefix": "rm(",
     "library": "var_list.r",
     "varRefreshCmd": "cat(var_dic_list()) "
    }
   },
   "position": {
    "height": "618.85px",
    "left": "1582px",
    "right": "16px",
    "top": "119px",
    "width": "322px"
   },
   "types_to_exclude": [
    "module",
    "function",
    "builtin_function_or_method",
    "instance",
    "_Feature"
   ],
   "window_display": false
  }
 },
 "nbformat": 4,
 "nbformat_minor": 2
}
