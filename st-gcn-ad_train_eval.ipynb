{
 "cells": [
  {
   "cell_type": "code",
   "execution_count": 1,
   "metadata": {},
   "outputs": [
    {
     "data": {
      "text/html": [
       "<style>.container { width:77% !important; }</style>"
      ],
      "text/plain": [
       "<IPython.core.display.HTML object>"
      ]
     },
     "metadata": {},
     "output_type": "display_data"
    }
   ],
   "source": [
    "from IPython.core.display import display, HTML\n",
    "display(HTML(\"<style>.container { width:77% !important; }</style>\"))\n",
    "%matplotlib inline\n",
    "%load_ext autoreload\n",
    "%autoreload 2"
   ]
  },
  {
   "cell_type": "code",
   "execution_count": 46,
   "metadata": {},
   "outputs": [],
   "source": [
    "import os\n",
    "import re\n",
    "import time\n",
    "import pickle\n",
    "import torch\n",
    "import torchvision\n",
    "import torch.nn as nn\n",
    "import torch.optim as optim\n",
    "import numpy as np\n",
    "import pandas as pd\n",
    "from collections import OrderedDict\n",
    "from net.st_gcn import Model\n",
    "from feeder.feeder import Feeder\n",
    "from torchlight.io import IO\n",
    "from ad_utils import map2ind, loader_initializer\n",
    "import matplotlib.pyplot as plt\n",
    "np.set_printoptions(linewidth=100, precision=5, suppress=True)"
   ]
  },
  {
   "cell_type": "code",
   "execution_count": 3,
   "metadata": {},
   "outputs": [],
   "source": [
    "# Loading of original weights\n",
    "data_dir_path = '/root/sharedfolder/datasets/data_ssd/kinetics-skeleton/st-gcn_kinetics/Kinetics/kinetics-skeleton/'\n",
    "root_path = '/root/sharedfolder/Research/pose_ad/st-gcn/'\n",
    "weights_path =  os.path.join(root_path, 'models/kinetics-st_gcn.pt')\n",
    "ft_weights_path = os.path.join(root_path, 'models/kinetics-st_gcn_ft.pt')\n",
    "io = IO(root_path)\n",
    "model_name = 'net.st_gcn.Model'\n",
    "graph_args = {'layout':'openpose', 'strategy':'spatial'}\n",
    "model_args = {\n",
    "    'edge_importance_weighting':True,\n",
    "    'graph_args':graph_args,\n",
    "    'in_channels':3,\n",
    "    'num_class':4, }"
   ]
  },
  {
   "cell_type": "code",
   "execution_count": 4,
   "metadata": {},
   "outputs": [],
   "source": [
    "model = io.load_model(model_name, **model_args)"
   ]
  },
  {
   "cell_type": "code",
   "execution_count": 5,
   "metadata": {},
   "outputs": [],
   "source": [
    "# Need to turn into a func\n",
    "weights = torch.load(weights_path)\n",
    "weights_list = [[k.split('module.')[-1], v.cpu()] for k, v in weights.items()]\n",
    "weights = OrderedDict(weights_list)\n",
    "model_state_dict = model.state_dict()\n",
    "weights.pop('fcn.bias') # loading all but the Final FC layer's weight and bias\n",
    "weights.pop('fcn.weight')\n",
    "model_state_dict.update(weights)\n",
    "model.load_state_dict(model_state_dict)"
   ]
  },
  {
   "cell_type": "code",
   "execution_count": 6,
   "metadata": {
    "scrolled": true
   },
   "outputs": [
    {
     "name": "stdout",
     "output_type": "stream",
     "text": [
      "data_bn.weight False\n",
      "data_bn.bias False\n",
      "st_gcn_networks.0.gcn.conv.weight False\n",
      "st_gcn_networks.0.gcn.conv.bias False\n",
      "st_gcn_networks.0.tcn.0.weight False\n",
      "st_gcn_networks.0.tcn.0.bias False\n",
      "st_gcn_networks.0.tcn.2.weight False\n",
      "st_gcn_networks.0.tcn.2.bias False\n",
      "st_gcn_networks.0.tcn.3.weight False\n",
      "st_gcn_networks.0.tcn.3.bias False\n",
      "st_gcn_networks.1.gcn.conv.weight False\n",
      "st_gcn_networks.1.gcn.conv.bias False\n",
      "st_gcn_networks.1.tcn.0.weight False\n",
      "st_gcn_networks.1.tcn.0.bias False\n",
      "st_gcn_networks.1.tcn.2.weight False\n",
      "st_gcn_networks.1.tcn.2.bias False\n",
      "st_gcn_networks.1.tcn.3.weight False\n",
      "st_gcn_networks.1.tcn.3.bias False\n",
      "st_gcn_networks.2.gcn.conv.weight False\n",
      "st_gcn_networks.2.gcn.conv.bias False\n",
      "st_gcn_networks.2.tcn.0.weight False\n",
      "st_gcn_networks.2.tcn.0.bias False\n",
      "st_gcn_networks.2.tcn.2.weight False\n",
      "st_gcn_networks.2.tcn.2.bias False\n",
      "st_gcn_networks.2.tcn.3.weight False\n",
      "st_gcn_networks.2.tcn.3.bias False\n",
      "st_gcn_networks.3.gcn.conv.weight False\n",
      "st_gcn_networks.3.gcn.conv.bias False\n",
      "st_gcn_networks.3.tcn.0.weight False\n",
      "st_gcn_networks.3.tcn.0.bias False\n",
      "st_gcn_networks.3.tcn.2.weight False\n",
      "st_gcn_networks.3.tcn.2.bias False\n",
      "st_gcn_networks.3.tcn.3.weight False\n",
      "st_gcn_networks.3.tcn.3.bias False\n",
      "st_gcn_networks.4.gcn.conv.weight False\n",
      "st_gcn_networks.4.gcn.conv.bias False\n",
      "st_gcn_networks.4.tcn.0.weight False\n",
      "st_gcn_networks.4.tcn.0.bias False\n",
      "st_gcn_networks.4.tcn.2.weight False\n",
      "st_gcn_networks.4.tcn.2.bias False\n",
      "st_gcn_networks.4.tcn.3.weight False\n",
      "st_gcn_networks.4.tcn.3.bias False\n",
      "st_gcn_networks.4.residual.0.weight False\n",
      "st_gcn_networks.4.residual.0.bias False\n",
      "st_gcn_networks.4.residual.1.weight False\n",
      "st_gcn_networks.4.residual.1.bias False\n",
      "st_gcn_networks.5.gcn.conv.weight False\n",
      "st_gcn_networks.5.gcn.conv.bias False\n",
      "st_gcn_networks.5.tcn.0.weight False\n",
      "st_gcn_networks.5.tcn.0.bias False\n",
      "st_gcn_networks.5.tcn.2.weight False\n",
      "st_gcn_networks.5.tcn.2.bias False\n",
      "st_gcn_networks.5.tcn.3.weight False\n",
      "st_gcn_networks.5.tcn.3.bias False\n",
      "st_gcn_networks.6.gcn.conv.weight False\n",
      "st_gcn_networks.6.gcn.conv.bias False\n",
      "st_gcn_networks.6.tcn.0.weight False\n",
      "st_gcn_networks.6.tcn.0.bias False\n",
      "st_gcn_networks.6.tcn.2.weight False\n",
      "st_gcn_networks.6.tcn.2.bias False\n",
      "st_gcn_networks.6.tcn.3.weight False\n",
      "st_gcn_networks.6.tcn.3.bias False\n",
      "st_gcn_networks.7.gcn.conv.weight False\n",
      "st_gcn_networks.7.gcn.conv.bias False\n",
      "st_gcn_networks.7.tcn.0.weight False\n",
      "st_gcn_networks.7.tcn.0.bias False\n",
      "st_gcn_networks.7.tcn.2.weight False\n",
      "st_gcn_networks.7.tcn.2.bias False\n",
      "st_gcn_networks.7.tcn.3.weight False\n",
      "st_gcn_networks.7.tcn.3.bias False\n",
      "st_gcn_networks.7.residual.0.weight False\n",
      "st_gcn_networks.7.residual.0.bias False\n",
      "st_gcn_networks.7.residual.1.weight False\n",
      "st_gcn_networks.7.residual.1.bias False\n",
      "st_gcn_networks.8.gcn.conv.weight False\n",
      "st_gcn_networks.8.gcn.conv.bias False\n",
      "st_gcn_networks.8.tcn.0.weight False\n",
      "st_gcn_networks.8.tcn.0.bias False\n",
      "st_gcn_networks.8.tcn.2.weight False\n",
      "st_gcn_networks.8.tcn.2.bias False\n",
      "st_gcn_networks.8.tcn.3.weight False\n",
      "st_gcn_networks.8.tcn.3.bias False\n",
      "st_gcn_networks.9.gcn.conv.weight False\n",
      "st_gcn_networks.9.gcn.conv.bias False\n",
      "st_gcn_networks.9.tcn.0.weight False\n",
      "st_gcn_networks.9.tcn.0.bias False\n",
      "st_gcn_networks.9.tcn.2.weight False\n",
      "st_gcn_networks.9.tcn.2.bias False\n",
      "st_gcn_networks.9.tcn.3.weight False\n",
      "st_gcn_networks.9.tcn.3.bias False\n",
      "edge_importance.0 False\n",
      "edge_importance.1 False\n",
      "edge_importance.2 False\n",
      "edge_importance.3 False\n",
      "edge_importance.4 False\n",
      "edge_importance.5 False\n",
      "edge_importance.6 False\n",
      "edge_importance.7 False\n",
      "edge_importance.8 False\n",
      "edge_importance.9 False\n",
      "fcn.weight True\n",
      "fcn.bias True\n"
     ]
    }
   ],
   "source": [
    "# Freezing of layers for fine tuning\n",
    "for name, param in model.named_parameters():\n",
    "    param.requires_grad = False\n",
    "    if \"fcn\" in name:  # Keeping the last FC layer trainable\n",
    "        param.requires_grad = True\n",
    "#     if name.find('9') != -1:  # For adding an additional graph conv layer to the training\n",
    "#         param.requires_grad = True\n",
    "    print (name, param.requires_grad) "
   ]
  },
  {
   "cell_type": "code",
   "execution_count": 7,
   "metadata": {},
   "outputs": [],
   "source": [
    "data_path   = dict()\n",
    "label_path  = dict()\n",
    "data_loader = dict()\n",
    "feeder_args = dict()"
   ]
  },
  {
   "cell_type": "code",
   "execution_count": 8,
   "metadata": {},
   "outputs": [],
   "source": [
    "train_data_path = os.path.join(data_dir_path, 'train_data.npy')\n",
    "train_label_path = os.path.join(data_dir_path, 'train_label.pkl')\n",
    "test_data_path = os.path.join(data_dir_path, 'val_data.npy')\n",
    "test_label_path = os.path.join(data_dir_path, 'val_label.pkl')"
   ]
  },
  {
   "cell_type": "code",
   "execution_count": 9,
   "metadata": {},
   "outputs": [],
   "source": [
    "normal_classes = [30, 74, 22, 15]\n",
    "sample_a = [59, 88, 134, 254]\n",
    "for split in ['normal_train', 'normal_test', 'mixed_test']:\n",
    "    data_path[split]   =  os.path.join(data_dir_path, 'ad_experiment', split+'_data.npy')\n",
    "    label_path[split]  =  os.path.join(data_dir_path, 'ad_experiment', split+'_label.pkl')\n",
    "    feeder_args[split] = {'data_path': data_path[split], 'label_path': label_path[split]}\n",
    "    \n",
    "feeder_args['random_train'] = {'data_path': train_data_path, 'label_path': train_label_path, 'specify_classes':normal_classes}\n",
    "feeder_args['random_test'] = {'data_path': test_data_path, 'label_path': test_label_path}  #, 'specify_classes':normal_classes}"
   ]
  },
  {
   "cell_type": "code",
   "execution_count": 10,
   "metadata": {},
   "outputs": [],
   "source": [
    "batch_size=32\n",
    "data_loader['normal_train'] = loader_initializer(feeder_args['normal_train'], batch_size=batch_size)\n",
    "data_loader['normal_test' ] = loader_initializer(feeder_args['normal_test' ], batch_size=batch_size, drop_last=False)\n",
    "data_loader['mixed_test'  ] = loader_initializer(feeder_args['mixed_test'  ], batch_size=batch_size, suffle=False, drop_last=False)\n",
    "\n",
    "data_loader['random_train' ] = loader_initializer(feeder_args['random_train' ], batch_size=batch_size, drop_last=True)\n",
    "data_loader['random_test'  ] = loader_initializer(feeder_args['random_test'  ], batch_size=batch_size, suffle=False, drop_last=False)"
   ]
  },
  {
   "cell_type": "code",
   "execution_count": 11,
   "metadata": {},
   "outputs": [],
   "source": [
    "# Model Definitions for Training\n",
    "dev = 'cuda:0'\n",
    "model = model.to(dev)\n",
    "loss_fn = nn.CrossEntropyLoss()\n",
    "# loader = data_loader['normal_train']\n",
    "loader = data_loader['random_train']\n",
    "loss_th = 0.15"
   ]
  },
  {
   "cell_type": "code",
   "execution_count": 12,
   "metadata": {},
   "outputs": [],
   "source": [
    "optimizer = optim.Adam(model.parameters())\n",
    "# optimizer = optim.SGD(model.parameters(), lr=1e-4, momentum=0.9)"
   ]
  },
  {
   "cell_type": "code",
   "execution_count": 13,
   "metadata": {},
   "outputs": [],
   "source": [
    "model_filename = 'models/kinetics-nc{}_curr.pt'.format(len(normal_classes))\n",
    "curr_weights_path = os.path.join(root_path, model_filename)"
   ]
  },
  {
   "cell_type": "code",
   "execution_count": 15,
   "metadata": {},
   "outputs": [],
   "source": [
    "# Training Loop\n",
    "train = 0 # 0 - Not, 1 - Train only, 2 - Train and Save\n",
    "\n",
    "if train >= 1:\n",
    "    for epoch in range(3):\n",
    "        for itern, [data, label] in enumerate(loader):\n",
    "                # get data\n",
    "                data = data.float().to(dev)\n",
    "                label = torch.from_numpy(map2ind(label))\n",
    "                label = label.long().to(dev)\n",
    "\n",
    "                # forward\n",
    "                output = model(data)\n",
    "                loss = loss_fn(output, label)\n",
    "\n",
    "                # backward\n",
    "                optimizer.zero_grad()\n",
    "                loss.backward()\n",
    "                optimizer.step()\n",
    "                if itern%10 == 0: \n",
    "                    print(\"Iteration {} (Epoch: {}), loss is {}\".format(itern, epoch, loss))\n",
    "                if loss < loss_th:\n",
    "                    print(\"Met loss {} in Epoch {}, iteration {}\".format(loss, epoch, itern))\n",
    "                    break\n",
    "        else:\n",
    "            continue\n",
    "        break\n",
    "    print(\"Done\")\n",
    "if train == 2:\n",
    "    torch.save(model.state_dict(), curr_weights_path)"
   ]
  },
  {
   "cell_type": "code",
   "execution_count": 16,
   "metadata": {},
   "outputs": [],
   "source": [
    "# For output evaluation\n",
    "if train >= 1:\n",
    "    sfmax_vals, cls = torch.max(output, 1)\n",
    "    print(\"Correct predictions\\n {}\".format(cls==label))\n",
    "    softmax = nn.Softmax(dim=1)\n",
    "    osoftmax_gpu = softmax(output)\n",
    "\n",
    "    sfmax_vals, cls = torch.max(osoftmax_gpu, 1)\n",
    "\n",
    "    osoftmax = 100 * osoftmax_gpu.cpu().detach().numpy()\n",
    "    print(\"Softmax Outputs \\n{} \\nSofmax max values \\n{}\".format(osoftmax, sfmax_vals))\n",
    "    torch.mean(sfmax_vals)"
   ]
  },
  {
   "cell_type": "code",
   "execution_count": 17,
   "metadata": {},
   "outputs": [
    {
     "data": {
      "text/plain": [
       "Model(\n",
       "  (data_bn): BatchNorm1d(54, eps=1e-05, momentum=0.1, affine=True, track_running_stats=True)\n",
       "  (st_gcn_networks): ModuleList(\n",
       "    (0): st_gcn(\n",
       "      (gcn): ConvTemporalGraphical(\n",
       "        (conv): Conv2d(3, 192, kernel_size=(1, 1), stride=(1, 1))\n",
       "      )\n",
       "      (tcn): Sequential(\n",
       "        (0): BatchNorm2d(64, eps=1e-05, momentum=0.1, affine=True, track_running_stats=True)\n",
       "        (1): ReLU(inplace)\n",
       "        (2): Conv2d(64, 64, kernel_size=(9, 1), stride=(1, 1), padding=(4, 0))\n",
       "        (3): BatchNorm2d(64, eps=1e-05, momentum=0.1, affine=True, track_running_stats=True)\n",
       "        (4): Dropout(p=0, inplace)\n",
       "      )\n",
       "      (relu): ReLU(inplace)\n",
       "    )\n",
       "    (1): st_gcn(\n",
       "      (gcn): ConvTemporalGraphical(\n",
       "        (conv): Conv2d(64, 192, kernel_size=(1, 1), stride=(1, 1))\n",
       "      )\n",
       "      (tcn): Sequential(\n",
       "        (0): BatchNorm2d(64, eps=1e-05, momentum=0.1, affine=True, track_running_stats=True)\n",
       "        (1): ReLU(inplace)\n",
       "        (2): Conv2d(64, 64, kernel_size=(9, 1), stride=(1, 1), padding=(4, 0))\n",
       "        (3): BatchNorm2d(64, eps=1e-05, momentum=0.1, affine=True, track_running_stats=True)\n",
       "        (4): Dropout(p=0, inplace)\n",
       "      )\n",
       "      (relu): ReLU(inplace)\n",
       "    )\n",
       "    (2): st_gcn(\n",
       "      (gcn): ConvTemporalGraphical(\n",
       "        (conv): Conv2d(64, 192, kernel_size=(1, 1), stride=(1, 1))\n",
       "      )\n",
       "      (tcn): Sequential(\n",
       "        (0): BatchNorm2d(64, eps=1e-05, momentum=0.1, affine=True, track_running_stats=True)\n",
       "        (1): ReLU(inplace)\n",
       "        (2): Conv2d(64, 64, kernel_size=(9, 1), stride=(1, 1), padding=(4, 0))\n",
       "        (3): BatchNorm2d(64, eps=1e-05, momentum=0.1, affine=True, track_running_stats=True)\n",
       "        (4): Dropout(p=0, inplace)\n",
       "      )\n",
       "      (relu): ReLU(inplace)\n",
       "    )\n",
       "    (3): st_gcn(\n",
       "      (gcn): ConvTemporalGraphical(\n",
       "        (conv): Conv2d(64, 192, kernel_size=(1, 1), stride=(1, 1))\n",
       "      )\n",
       "      (tcn): Sequential(\n",
       "        (0): BatchNorm2d(64, eps=1e-05, momentum=0.1, affine=True, track_running_stats=True)\n",
       "        (1): ReLU(inplace)\n",
       "        (2): Conv2d(64, 64, kernel_size=(9, 1), stride=(1, 1), padding=(4, 0))\n",
       "        (3): BatchNorm2d(64, eps=1e-05, momentum=0.1, affine=True, track_running_stats=True)\n",
       "        (4): Dropout(p=0, inplace)\n",
       "      )\n",
       "      (relu): ReLU(inplace)\n",
       "    )\n",
       "    (4): st_gcn(\n",
       "      (gcn): ConvTemporalGraphical(\n",
       "        (conv): Conv2d(64, 384, kernel_size=(1, 1), stride=(1, 1))\n",
       "      )\n",
       "      (tcn): Sequential(\n",
       "        (0): BatchNorm2d(128, eps=1e-05, momentum=0.1, affine=True, track_running_stats=True)\n",
       "        (1): ReLU(inplace)\n",
       "        (2): Conv2d(128, 128, kernel_size=(9, 1), stride=(2, 1), padding=(4, 0))\n",
       "        (3): BatchNorm2d(128, eps=1e-05, momentum=0.1, affine=True, track_running_stats=True)\n",
       "        (4): Dropout(p=0, inplace)\n",
       "      )\n",
       "      (residual): Sequential(\n",
       "        (0): Conv2d(64, 128, kernel_size=(1, 1), stride=(2, 1))\n",
       "        (1): BatchNorm2d(128, eps=1e-05, momentum=0.1, affine=True, track_running_stats=True)\n",
       "      )\n",
       "      (relu): ReLU(inplace)\n",
       "    )\n",
       "    (5): st_gcn(\n",
       "      (gcn): ConvTemporalGraphical(\n",
       "        (conv): Conv2d(128, 384, kernel_size=(1, 1), stride=(1, 1))\n",
       "      )\n",
       "      (tcn): Sequential(\n",
       "        (0): BatchNorm2d(128, eps=1e-05, momentum=0.1, affine=True, track_running_stats=True)\n",
       "        (1): ReLU(inplace)\n",
       "        (2): Conv2d(128, 128, kernel_size=(9, 1), stride=(1, 1), padding=(4, 0))\n",
       "        (3): BatchNorm2d(128, eps=1e-05, momentum=0.1, affine=True, track_running_stats=True)\n",
       "        (4): Dropout(p=0, inplace)\n",
       "      )\n",
       "      (relu): ReLU(inplace)\n",
       "    )\n",
       "    (6): st_gcn(\n",
       "      (gcn): ConvTemporalGraphical(\n",
       "        (conv): Conv2d(128, 384, kernel_size=(1, 1), stride=(1, 1))\n",
       "      )\n",
       "      (tcn): Sequential(\n",
       "        (0): BatchNorm2d(128, eps=1e-05, momentum=0.1, affine=True, track_running_stats=True)\n",
       "        (1): ReLU(inplace)\n",
       "        (2): Conv2d(128, 128, kernel_size=(9, 1), stride=(1, 1), padding=(4, 0))\n",
       "        (3): BatchNorm2d(128, eps=1e-05, momentum=0.1, affine=True, track_running_stats=True)\n",
       "        (4): Dropout(p=0, inplace)\n",
       "      )\n",
       "      (relu): ReLU(inplace)\n",
       "    )\n",
       "    (7): st_gcn(\n",
       "      (gcn): ConvTemporalGraphical(\n",
       "        (conv): Conv2d(128, 768, kernel_size=(1, 1), stride=(1, 1))\n",
       "      )\n",
       "      (tcn): Sequential(\n",
       "        (0): BatchNorm2d(256, eps=1e-05, momentum=0.1, affine=True, track_running_stats=True)\n",
       "        (1): ReLU(inplace)\n",
       "        (2): Conv2d(256, 256, kernel_size=(9, 1), stride=(2, 1), padding=(4, 0))\n",
       "        (3): BatchNorm2d(256, eps=1e-05, momentum=0.1, affine=True, track_running_stats=True)\n",
       "        (4): Dropout(p=0, inplace)\n",
       "      )\n",
       "      (residual): Sequential(\n",
       "        (0): Conv2d(128, 256, kernel_size=(1, 1), stride=(2, 1))\n",
       "        (1): BatchNorm2d(256, eps=1e-05, momentum=0.1, affine=True, track_running_stats=True)\n",
       "      )\n",
       "      (relu): ReLU(inplace)\n",
       "    )\n",
       "    (8): st_gcn(\n",
       "      (gcn): ConvTemporalGraphical(\n",
       "        (conv): Conv2d(256, 768, kernel_size=(1, 1), stride=(1, 1))\n",
       "      )\n",
       "      (tcn): Sequential(\n",
       "        (0): BatchNorm2d(256, eps=1e-05, momentum=0.1, affine=True, track_running_stats=True)\n",
       "        (1): ReLU(inplace)\n",
       "        (2): Conv2d(256, 256, kernel_size=(9, 1), stride=(1, 1), padding=(4, 0))\n",
       "        (3): BatchNorm2d(256, eps=1e-05, momentum=0.1, affine=True, track_running_stats=True)\n",
       "        (4): Dropout(p=0, inplace)\n",
       "      )\n",
       "      (relu): ReLU(inplace)\n",
       "    )\n",
       "    (9): st_gcn(\n",
       "      (gcn): ConvTemporalGraphical(\n",
       "        (conv): Conv2d(256, 768, kernel_size=(1, 1), stride=(1, 1))\n",
       "      )\n",
       "      (tcn): Sequential(\n",
       "        (0): BatchNorm2d(256, eps=1e-05, momentum=0.1, affine=True, track_running_stats=True)\n",
       "        (1): ReLU(inplace)\n",
       "        (2): Conv2d(256, 256, kernel_size=(9, 1), stride=(1, 1), padding=(4, 0))\n",
       "        (3): BatchNorm2d(256, eps=1e-05, momentum=0.1, affine=True, track_running_stats=True)\n",
       "        (4): Dropout(p=0, inplace)\n",
       "      )\n",
       "      (relu): ReLU(inplace)\n",
       "    )\n",
       "  )\n",
       "  (edge_importance): ParameterList(\n",
       "      (0): Parameter containing: [torch.cuda.FloatTensor of size 3x18x18 (GPU 0)]\n",
       "      (1): Parameter containing: [torch.cuda.FloatTensor of size 3x18x18 (GPU 0)]\n",
       "      (2): Parameter containing: [torch.cuda.FloatTensor of size 3x18x18 (GPU 0)]\n",
       "      (3): Parameter containing: [torch.cuda.FloatTensor of size 3x18x18 (GPU 0)]\n",
       "      (4): Parameter containing: [torch.cuda.FloatTensor of size 3x18x18 (GPU 0)]\n",
       "      (5): Parameter containing: [torch.cuda.FloatTensor of size 3x18x18 (GPU 0)]\n",
       "      (6): Parameter containing: [torch.cuda.FloatTensor of size 3x18x18 (GPU 0)]\n",
       "      (7): Parameter containing: [torch.cuda.FloatTensor of size 3x18x18 (GPU 0)]\n",
       "      (8): Parameter containing: [torch.cuda.FloatTensor of size 3x18x18 (GPU 0)]\n",
       "      (9): Parameter containing: [torch.cuda.FloatTensor of size 3x18x18 (GPU 0)]\n",
       "  )\n",
       "  (fcn): Conv2d(256, 4, kernel_size=(1, 1), stride=(1, 1))\n",
       ")"
      ]
     },
     "execution_count": 17,
     "metadata": {},
     "output_type": "execute_result"
    }
   ],
   "source": [
    "dev = 'cuda:0'\n",
    "model_ld = io.load_model(model_name, **model_args)\n",
    "model_ld.load_state_dict(torch.load(curr_weights_path))\n",
    "model_ld.to(dev)\n",
    "model_ld.eval()"
   ]
  },
  {
   "cell_type": "code",
   "execution_count": null,
   "metadata": {},
   "outputs": [],
   "source": [
    "# Model Definitions for Testing\n",
    "# loader = data_loader['mixed_test']\n",
    "loader = data_loader['random_test']\n",
    "model = model_ld"
   ]
  },
  {
   "cell_type": "code",
   "execution_count": 27,
   "metadata": {},
   "outputs": [
    {
     "name": "stderr",
     "output_type": "stream",
     "text": [
      "/usr/local/lib/python3.5/dist-packages/ipykernel_launcher.py:30: UserWarning: invalid index of a 0-dim tensor. This will be an error in PyTorch 0.5. Use tensor.item() to convert a 0-dim tensor to a Python number\n"
     ]
    },
    {
     "name": "stdout",
     "output_type": "stream",
     "text": [
      "Iteration 0\n",
      "Iteration 50\n",
      "Iteration 100\n",
      "Iteration 150\n",
      "Iteration 200\n",
      "Iteration 250\n",
      "Iteration 300\n",
      "Iteration 350\n",
      "Iteration 400\n",
      "Iteration 450\n",
      "Iteration 500\n",
      "Iteration 550\n",
      "Iteration 600\n"
     ]
    }
   ],
   "source": [
    "loss_value = []\n",
    "result_frag = []\n",
    "label_frag = []\n",
    "label_ad = np.empty(0)\n",
    "outputs = []\n",
    "epoch_info = dict()\n",
    "confusion_mat = np.zeros([5,5], dtype=np.int32)\n",
    "evaluation = True\n",
    "softmax = nn.Softmax(dim=1)\n",
    "\n",
    "for itern, [data, label_ld] in enumerate(loader):\n",
    "    # get data\n",
    "    data = data.float().cuda()\n",
    "    label_ad_curr = map2ind(label_ld, from_arr=normal_classes, to_arr=np.ones_like(normal_classes), def_val=0)\n",
    "    label_ad = np.concatenate((label_ad, label_ad_curr))\n",
    "    label_mapped = map2ind(label_ld, from_arr=normal_classes, to_arr=None, def_val=0) # Assign output probs regardless of abnormal classes,\n",
    "    label = torch.from_numpy(label_mapped)\n",
    "    \n",
    "    label = label.long().cuda()\n",
    "\n",
    "    # inference\n",
    "    with torch.no_grad():\n",
    "        output = model(data)\n",
    "    result_frag.append(output.data.cpu().numpy())\n",
    "\n",
    "    # get loss\n",
    "    if evaluation:\n",
    "        loss = loss_fn(output, label)\n",
    "        confusion_mat[label_mapped, np.argmax(output, axis=1)] += 1\n",
    "        loss_value.append(loss.data[0])\n",
    "        label_frag.append(label.data.cpu().numpy())\n",
    "        outputs.append([itern ,softmax(output).data.cpu().numpy()])\n",
    "        \n",
    "    # Track progress\n",
    "    if itern % 50 == 0:\n",
    "        print(\"Iteration {}\".format(itern))\n",
    "\n",
    "result = np.concatenate(result_frag)\n",
    "# np.savetxt(\"kinetics400_confusion.csv\", confusion_mat)\n",
    "if evaluation:\n",
    "    label2 = np.concatenate(label_frag)\n",
    "    epoch_info['mean_loss'] = np.mean(loss_value)"
   ]
  },
  {
   "cell_type": "code",
   "execution_count": 29,
   "metadata": {},
   "outputs": [
    {
     "data": {
      "text/plain": [
       "(19796,)"
      ]
     },
     "execution_count": 29,
     "metadata": {},
     "output_type": "execute_result"
    }
   ],
   "source": [
    "label_ad.shape"
   ]
  },
  {
   "cell_type": "code",
   "execution_count": 31,
   "metadata": {},
   "outputs": [
    {
     "name": "stdout",
     "output_type": "stream",
     "text": [
      "0.8086166 0.68350524\n"
     ]
    }
   ],
   "source": [
    "len(outputs)\n",
    "out_sfmax = [np.array(sf) for i, sf in outputs]\n",
    "out_sfmax = np.concatenate(out_sfmax, axis=0)\n",
    "out_sfmax_max_vals = out_sfmax.max(axis=1)\n",
    "split_idx = 198\n",
    "normal_max_sfmax = out_sfmax_max_vals[label_ad == 1]\n",
    "abnormal_max_sfmax = out_sfmax_max_vals[label_ad == 0]\n",
    "print(normal_max_sfmax.mean(), abnormal_max_sfmax.mean())"
   ]
  },
  {
   "cell_type": "code",
   "execution_count": null,
   "metadata": {},
   "outputs": [],
   "source": [
    "# For output evaluation\n",
    "sfmax_vals, cls = torch.max(output, 1)\n",
    "print(\"Correct predictions\\n {}\".format(cls==label))\n",
    "softmax = nn.Softmax(dim=1)\n",
    "osoftmax_gpu = softmax(output)\n",
    "\n",
    "sfmax_vals, cls = torch.max(osoftmax_gpu, 1)\n",
    "\n",
    "osoftmax = 100 * osoftmax_gpu.cpu().detach().numpy()\n",
    "print(\"Softmax Outputs \\n{} \\nSofmax max values \\n{}\".format(osoftmax, sfmax_vals))\n",
    "torch.mean(sfmax_vals)\n",
    "label\n",
    "# print(\"Correct predictions\\n {}\".format(cls_bn==label))\n"
   ]
  },
  {
   "cell_type": "code",
   "execution_count": 33,
   "metadata": {},
   "outputs": [
    {
     "data": {
      "text/plain": [
       "0.7035034846631998"
      ]
     },
     "execution_count": 33,
     "metadata": {},
     "output_type": "execute_result"
    }
   ],
   "source": [
    "from sklearn.metrics import roc_curve, auc\n",
    "\n",
    "true_labels = label_ad\n",
    "fpr, tpr, thresholds = roc_curve(true_labels, out_sfmax_max_vals)\n",
    "roc_auc = auc(fpr, tpr)\n",
    "\n",
    "roc_auc"
   ]
  },
  {
   "cell_type": "code",
   "execution_count": 56,
   "metadata": {},
   "outputs": [],
   "source": [
    "# Log To Text File\n",
    "log_str = \"Results for classes {}\\nfpr: {}\\ntpr: {}\\nthr: {}\".format(normal_classes, fpr[::20], tpr[::20], thresholds[::20])\n",
    "# print(log_str)\n",
    "normal_classes_str = [str(i) for i in normal_classes]\n",
    "classes_str = '_'.join(normal_classes_str)\n",
    "time_str = time.strftime(\"%b%d_%H%M\")\n",
    "log_filename = \"{}_{}_auc{}.txt\".format(time_str, classes_str, str(int(100*roc_auc)))\n",
    "log_dirname = 'logs/kinetics_trained_n_v_all/'\n",
    "logfile_path = os.path.join(root_path, log_dirname, log_filename)\n",
    "with open(logfile_path, 'w') as f:\n",
    "    f.write(log_str)"
   ]
  },
  {
   "cell_type": "code",
   "execution_count": 34,
   "metadata": {},
   "outputs": [
    {
     "name": "stdout",
     "output_type": "stream",
     "text": [
      "0.25125628140703515 0.047507271521151195 0.9535472\n"
     ]
    }
   ],
   "source": [
    "ind=95\n",
    "print(tpr[ind], fpr[ind], thresholds[ind])"
   ]
  },
  {
   "cell_type": "code",
   "execution_count": 35,
   "metadata": {},
   "outputs": [
    {
     "data": {
      "image/png": "[encoded data removed]",
      "text/plain": [
       "<Figure size 432x288 with 1 Axes>"
      ]
     },
     "metadata": {
      "needs_background": "light"
     },
     "output_type": "display_data"
    }
   ],
   "source": [
    "plt.figure()\n",
    "plt.plot(fpr, tpr, color='darkorange', lw=2, label='ROC curve (area = %0.3f)' % roc_auc)\n",
    "plt.plot([0, 1], [0, 1], color='navy', lw=2, linestyle='--')\n",
    "plt.xlim([0.0, 1.0])\n",
    "plt.ylim([0.0, 1.05])\n",
    "plt.xlabel('False Positive Rate')\n",
    "plt.ylabel('True Positive Rate')\n",
    "plt.title('RoC curve for abnormal class detection')\n",
    "plt.legend(loc=\"lower right\")\n",
    "plt.show()"
   ]
  },
  {
   "cell_type": "code",
   "execution_count": null,
   "metadata": {},
   "outputs": [],
   "source": []
  }
 ],
 "metadata": {
  "kernelspec": {
   "display_name": "Python 3",
   "language": "python",
   "name": "python3"
  },
  "language_info": {
   "codemirror_mode": {
    "name": "ipython",
    "version": 3
   },
   "file_extension": ".py",
   "mimetype": "text/x-python",
   "name": "python",
   "nbconvert_exporter": "python",
   "pygments_lexer": "ipython3",
   "version": "3.5.2"
  }
 },
 "nbformat": 4,
 "nbformat_minor": 2
}
