{
 "cells": [
  {
   "cell_type": "code",
   "execution_count": 2,
   "metadata": {},
   "outputs": [
    {
     "data": {
      "text/html": [
       "<style>.container { width:77% !important; }</style>"
      ],
      "text/plain": [
       "<IPython.core.display.HTML object>"
      ]
     },
     "metadata": {},
     "output_type": "display_data"
    }
   ],
   "source": [
    "from IPython.core.display import display, HTML\n",
    "display(HTML(\"<style>.container { width:77% !important; }</style>\"))\n",
    "%matplotlib inline\n",
    "%load_ext autoreload\n",
    "%autoreload 2"
   ]
  },
  {
   "cell_type": "code",
   "execution_count": 3,
   "metadata": {},
   "outputs": [
    {
     "name": "stderr",
     "output_type": "stream",
     "text": [
      "/usr/lib/python3.5/importlib/_bootstrap.py:222: RuntimeWarning: numpy.dtype size changed, may indicate binary incompatibility. Expected 96, got 88\n",
      "  return f(*args, **kwds)\n",
      "/usr/lib/python3.5/importlib/_bootstrap.py:222: RuntimeWarning: numpy.dtype size changed, may indicate binary incompatibility. Expected 96, got 88\n",
      "  return f(*args, **kwds)\n"
     ]
    }
   ],
   "source": [
    "import os\n",
    "import re\n",
    "import pickle\n",
    "import torch\n",
    "import torchvision\n",
    "import torch.nn as nn\n",
    "import torch.optim as optim\n",
    "import numpy as np\n",
    "import pandas as pd\n",
    "from collections import OrderedDict\n",
    "from net.st_gcn import Model\n",
    "from feeder.feeder import Feeder\n",
    "from torchlight.io import IO\n",
    "from ad_utils import map2ind, loader_initializer\n",
    "import matplotlib.pyplot as plt\n",
    "np.set_printoptions(linewidth=100, precision=5, suppress=True)"
   ]
  },
  {
   "cell_type": "code",
   "execution_count": 3,
   "metadata": {},
   "outputs": [],
   "source": [
    "# Loading of original weights\n",
    "data_dir_path = '/root/sharedfolder/datasets/data_ssd/kinetics-skeleton/st-gcn_kinetics/Kinetics/kinetics-skeleton/'\n",
    "root_path = '/root/sharedfolder/Research/pose_ad/st-gcn/'\n",
    "weights_path =  os.path.join(root_path, 'models/kinetics-st_gcn.pt')\n",
    "ft_weights_path = os.path.join(root_path, 'models/kinetics-st_gcn_ft.pt')\n",
    "io = IO(root_path)\n",
    "model_name = 'net.st_gcn.Model'\n",
    "graph_args = {'layout':'openpose', 'strategy':'spatial'}\n",
    "model_args = {\n",
    "    'edge_importance_weighting':True,\n",
    "    'graph_args':graph_args,\n",
    "    'in_channels':3,\n",
    "    'num_class':4, }"
   ]
  },
  {
   "cell_type": "code",
   "execution_count": 4,
   "metadata": {},
   "outputs": [],
   "source": [
    "model = io.load_model(model_name, **model_args)"
   ]
  },
  {
   "cell_type": "code",
   "execution_count": 5,
   "metadata": {},
   "outputs": [],
   "source": [
    "# Need to turn into a func\n",
    "weights = torch.load(weights_path)\n",
    "weights_list = [[k.split('module.')[-1], v.cpu()] for k, v in weights.items()]\n",
    "weights = OrderedDict(weights_list)\n",
    "model_state_dict = model.state_dict()\n",
    "weights.pop('fcn.bias') # loading all but the Final FC layer's weight and bias\n",
    "weights.pop('fcn.weight')\n",
    "model_state_dict.update(weights)\n",
    "model.load_state_dict(model_state_dict)"
   ]
  },
  {
   "cell_type": "code",
   "execution_count": 6,
   "metadata": {
    "scrolled": true
   },
   "outputs": [
    {
     "name": "stdout",
     "output_type": "stream",
     "text": [
      "data_bn.weight False\n",
      "data_bn.bias False\n",
      "st_gcn_networks.0.gcn.conv.weight False\n",
      "st_gcn_networks.0.gcn.conv.bias False\n",
      "st_gcn_networks.0.tcn.0.weight False\n",
      "st_gcn_networks.0.tcn.0.bias False\n",
      "st_gcn_networks.0.tcn.2.weight False\n",
      "st_gcn_networks.0.tcn.2.bias False\n",
      "st_gcn_networks.0.tcn.3.weight False\n",
      "st_gcn_networks.0.tcn.3.bias False\n",
      "st_gcn_networks.1.gcn.conv.weight False\n",
      "st_gcn_networks.1.gcn.conv.bias False\n",
      "st_gcn_networks.1.tcn.0.weight False\n",
      "st_gcn_networks.1.tcn.0.bias False\n",
      "st_gcn_networks.1.tcn.2.weight False\n",
      "st_gcn_networks.1.tcn.2.bias False\n",
      "st_gcn_networks.1.tcn.3.weight False\n",
      "st_gcn_networks.1.tcn.3.bias False\n",
      "st_gcn_networks.2.gcn.conv.weight False\n",
      "st_gcn_networks.2.gcn.conv.bias False\n",
      "st_gcn_networks.2.tcn.0.weight False\n",
      "st_gcn_networks.2.tcn.0.bias False\n",
      "st_gcn_networks.2.tcn.2.weight False\n",
      "st_gcn_networks.2.tcn.2.bias False\n",
      "st_gcn_networks.2.tcn.3.weight False\n",
      "st_gcn_networks.2.tcn.3.bias False\n",
      "st_gcn_networks.3.gcn.conv.weight False\n",
      "st_gcn_networks.3.gcn.conv.bias False\n",
      "st_gcn_networks.3.tcn.0.weight False\n",
      "st_gcn_networks.3.tcn.0.bias False\n",
      "st_gcn_networks.3.tcn.2.weight False\n",
      "st_gcn_networks.3.tcn.2.bias False\n",
      "st_gcn_networks.3.tcn.3.weight False\n",
      "st_gcn_networks.3.tcn.3.bias False\n",
      "st_gcn_networks.4.gcn.conv.weight False\n",
      "st_gcn_networks.4.gcn.conv.bias False\n",
      "st_gcn_networks.4.tcn.0.weight False\n",
      "st_gcn_networks.4.tcn.0.bias False\n",
      "st_gcn_networks.4.tcn.2.weight False\n",
      "st_gcn_networks.4.tcn.2.bias False\n",
      "st_gcn_networks.4.tcn.3.weight False\n",
      "st_gcn_networks.4.tcn.3.bias False\n",
      "st_gcn_networks.4.residual.0.weight False\n",
      "st_gcn_networks.4.residual.0.bias False\n",
      "st_gcn_networks.4.residual.1.weight False\n",
      "st_gcn_networks.4.residual.1.bias False\n",
      "st_gcn_networks.5.gcn.conv.weight False\n",
      "st_gcn_networks.5.gcn.conv.bias False\n",
      "st_gcn_networks.5.tcn.0.weight False\n",
      "st_gcn_networks.5.tcn.0.bias False\n",
      "st_gcn_networks.5.tcn.2.weight False\n",
      "st_gcn_networks.5.tcn.2.bias False\n",
      "st_gcn_networks.5.tcn.3.weight False\n",
      "st_gcn_networks.5.tcn.3.bias False\n",
      "st_gcn_networks.6.gcn.conv.weight False\n",
      "st_gcn_networks.6.gcn.conv.bias False\n",
      "st_gcn_networks.6.tcn.0.weight False\n",
      "st_gcn_networks.6.tcn.0.bias False\n",
      "st_gcn_networks.6.tcn.2.weight False\n",
      "st_gcn_networks.6.tcn.2.bias False\n",
      "st_gcn_networks.6.tcn.3.weight False\n",
      "st_gcn_networks.6.tcn.3.bias False\n",
      "st_gcn_networks.7.gcn.conv.weight False\n",
      "st_gcn_networks.7.gcn.conv.bias False\n",
      "st_gcn_networks.7.tcn.0.weight False\n",
      "st_gcn_networks.7.tcn.0.bias False\n",
      "st_gcn_networks.7.tcn.2.weight False\n",
      "st_gcn_networks.7.tcn.2.bias False\n",
      "st_gcn_networks.7.tcn.3.weight False\n",
      "st_gcn_networks.7.tcn.3.bias False\n",
      "st_gcn_networks.7.residual.0.weight False\n",
      "st_gcn_networks.7.residual.0.bias False\n",
      "st_gcn_networks.7.residual.1.weight False\n",
      "st_gcn_networks.7.residual.1.bias False\n",
      "st_gcn_networks.8.gcn.conv.weight False\n",
      "st_gcn_networks.8.gcn.conv.bias False\n",
      "st_gcn_networks.8.tcn.0.weight False\n",
      "st_gcn_networks.8.tcn.0.bias False\n",
      "st_gcn_networks.8.tcn.2.weight False\n",
      "st_gcn_networks.8.tcn.2.bias False\n",
      "st_gcn_networks.8.tcn.3.weight False\n",
      "st_gcn_networks.8.tcn.3.bias False\n",
      "st_gcn_networks.9.gcn.conv.weight False\n",
      "st_gcn_networks.9.gcn.conv.bias False\n",
      "st_gcn_networks.9.tcn.0.weight False\n",
      "st_gcn_networks.9.tcn.0.bias False\n",
      "st_gcn_networks.9.tcn.2.weight False\n",
      "st_gcn_networks.9.tcn.2.bias False\n",
      "st_gcn_networks.9.tcn.3.weight False\n",
      "st_gcn_networks.9.tcn.3.bias False\n",
      "edge_importance.0 False\n",
      "edge_importance.1 False\n",
      "edge_importance.2 False\n",
      "edge_importance.3 False\n",
      "edge_importance.4 False\n",
      "edge_importance.5 False\n",
      "edge_importance.6 False\n",
      "edge_importance.7 False\n",
      "edge_importance.8 False\n",
      "edge_importance.9 False\n",
      "fcn.weight True\n",
      "fcn.bias True\n"
     ]
    }
   ],
   "source": [
    "# Freezing of layers for fine tuning\n",
    "for name, param in model.named_parameters():\n",
    "    param.requires_grad = False\n",
    "    if \"fcn\" in name:  # Keeping the last FC layer trainable\n",
    "        param.requires_grad = True\n",
    "#     if name.find('9') != -1:  # For adding an additional graph conv layer to the training\n",
    "#         param.requires_grad = True\n",
    "    print (name, param.requires_grad) "
   ]
  },
  {
   "cell_type": "code",
   "execution_count": 7,
   "metadata": {},
   "outputs": [],
   "source": [
    "data_path   = dict()\n",
    "label_path  = dict()\n",
    "data_loader = dict()\n",
    "feeder_args = dict()"
   ]
  },
  {
   "cell_type": "code",
   "execution_count": 81,
   "metadata": {},
   "outputs": [],
   "source": [
    "train_data_path = os.path.join(data_dir_path, 'train_data.npy')\n",
    "train_label_path = os.path.join(data_dir_path, 'train_label.pkl')\n",
    "test_data_path = os.path.join(data_dir_path, 'val_data.npy')\n",
    "test_label_path = os.path.join(data_dir_path, 'val_label.pkl')\n",
    "\n",
    "# test_feeder_args = {'data_path': test_data_path, 'label_path': test_label_path}\n",
    "# train_feeder_args = {'data_path': train_data_path, 'label_path': train_label_path}"
   ]
  },
  {
   "cell_type": "code",
   "execution_count": 8,
   "metadata": {},
   "outputs": [],
   "source": [
    "normal_classes = [30, 74, 22, 15]\n",
    "for split in ['normal_train', 'normal_test', 'mixed_test']:\n",
    "    data_path[split]   =  os.path.join(data_dir_path, 'ad_experiment', split+'_data.npy')\n",
    "    label_path[split]  =  os.path.join(data_dir_path, 'ad_experiment', split+'_label.pkl')\n",
    "    feeder_args[split] = {'data_path': data_path[split], 'label_path': label_path[split]}\n",
    "    \n",
    "feeder_args['random_train'] = {'data_path': train_data_path, 'label_path': train_label_path, 'specify_classes':normal_classes}\n",
    "feeder_args['random_test'] = {'data_path': train_data_path, 'label_path': train_label_path, 'specify_classes':normal_classes}"
   ]
  },
  {
   "cell_type": "code",
   "execution_count": 9,
   "metadata": {},
   "outputs": [],
   "source": [
    "batch_size=32\n",
    "data_loader['normal_train'] = loader_initializer(feeder_args['normal_train'], batch_size=batch_size)\n",
    "data_loader['normal_test' ] = loader_initializer(feeder_args['normal_test' ], batch_size=batch_size, drop_last=False)\n",
    "data_loader['mixed_test'  ] = loader_initializer(feeder_args['mixed_test'  ], batch_size=batch_size, suffle=False, drop_last=False)"
   ]
  },
  {
   "cell_type": "code",
   "execution_count": 10,
   "metadata": {},
   "outputs": [],
   "source": [
    "# Model Definitions for Training\n",
    "dev = 'cuda:0'\n",
    "model = model.to(dev)\n",
    "loss_fn = nn.CrossEntropyLoss()\n",
    "loader = data_loader['normal_train']\n",
    "loss_th = 0.15"
   ]
  },
  {
   "cell_type": "code",
   "execution_count": 11,
   "metadata": {},
   "outputs": [],
   "source": [
    "optimizer = optim.Adam(model.parameters())\n",
    "# optimizer = optim.SGD(model.parameters(), lr=1e-4, momentum=0.9)"
   ]
  },
  {
   "cell_type": "code",
   "execution_count": 12,
   "metadata": {},
   "outputs": [],
   "source": [
    "# Training Loop\n",
    "train = False\n",
    "\n",
    "if train:\n",
    "    for epoch in range(3):\n",
    "        for itern, [data, label] in enumerate(loader):\n",
    "                # get data\n",
    "                data = data.float().to(dev)\n",
    "                label = torch.from_numpy(map2ind(label))\n",
    "                label = label.long().to(dev)\n",
    "\n",
    "                # forward\n",
    "                output = model(data)\n",
    "                loss = loss_fn(output, label)\n",
    "\n",
    "                # backward\n",
    "                optimizer.zero_grad()\n",
    "                loss.backward()\n",
    "                optimizer.step()\n",
    "                if itern%10 == 0: \n",
    "                    print(\"Iteration {} (Epoch: {}), loss is {}\".format(itern, epoch, loss))\n",
    "                if loss < loss_th:\n",
    "                    print(\"Met loss {} in Epoch {}, iteration {}\".format(loss, epoch, itern))\n",
    "                    break\n",
    "        else:\n",
    "            continue\n",
    "        break\n",
    "    print(\"Done\")\n",
    "if False:\n",
    "    torch.save(model.state_dict(), ft_weights_path)"
   ]
  },
  {
   "cell_type": "code",
   "execution_count": 13,
   "metadata": {},
   "outputs": [
    {
     "ename": "NameError",
     "evalue": "name 'output' is not defined",
     "output_type": "error",
     "traceback": [
      "\u001b[0;31m---------------------------------------------------------------------------\u001b[0m",
      "\u001b[0;31mNameError\u001b[0m                                 Traceback (most recent call last)",
      "\u001b[0;32m<ipython-input-13-b7406e2a0ebe>\u001b[0m in \u001b[0;36m<module>\u001b[0;34m()\u001b[0m\n\u001b[1;32m      1\u001b[0m \u001b[0;31m# For output evaluation\u001b[0m\u001b[0;34m\u001b[0m\u001b[0;34m\u001b[0m\u001b[0m\n\u001b[0;32m----> 2\u001b[0;31m \u001b[0msfmax_vals\u001b[0m\u001b[0;34m,\u001b[0m \u001b[0mcls\u001b[0m \u001b[0;34m=\u001b[0m \u001b[0mtorch\u001b[0m\u001b[0;34m.\u001b[0m\u001b[0mmax\u001b[0m\u001b[0;34m(\u001b[0m\u001b[0moutput\u001b[0m\u001b[0;34m,\u001b[0m \u001b[0;36m1\u001b[0m\u001b[0;34m)\u001b[0m\u001b[0;34m\u001b[0m\u001b[0m\n\u001b[0m\u001b[1;32m      3\u001b[0m \u001b[0mprint\u001b[0m\u001b[0;34m(\u001b[0m\u001b[0;34m\"Correct predictions\\n {}\"\u001b[0m\u001b[0;34m.\u001b[0m\u001b[0mformat\u001b[0m\u001b[0;34m(\u001b[0m\u001b[0mcls\u001b[0m\u001b[0;34m==\u001b[0m\u001b[0mlabel\u001b[0m\u001b[0;34m)\u001b[0m\u001b[0;34m)\u001b[0m\u001b[0;34m\u001b[0m\u001b[0m\n\u001b[1;32m      4\u001b[0m \u001b[0msoftmax\u001b[0m \u001b[0;34m=\u001b[0m \u001b[0mnn\u001b[0m\u001b[0;34m.\u001b[0m\u001b[0mSoftmax\u001b[0m\u001b[0;34m(\u001b[0m\u001b[0mdim\u001b[0m\u001b[0;34m=\u001b[0m\u001b[0;36m1\u001b[0m\u001b[0;34m)\u001b[0m\u001b[0;34m\u001b[0m\u001b[0m\n\u001b[1;32m      5\u001b[0m \u001b[0mosoftmax_gpu\u001b[0m \u001b[0;34m=\u001b[0m \u001b[0msoftmax\u001b[0m\u001b[0;34m(\u001b[0m\u001b[0moutput\u001b[0m\u001b[0;34m)\u001b[0m\u001b[0;34m\u001b[0m\u001b[0m\n",
      "\u001b[0;31mNameError\u001b[0m: name 'output' is not defined"
     ]
    }
   ],
   "source": [
    "# For output evaluation\n",
    "sfmax_vals, cls = torch.max(output, 1)\n",
    "print(\"Correct predictions\\n {}\".format(cls==label))\n",
    "softmax = nn.Softmax(dim=1)\n",
    "osoftmax_gpu = softmax(output)\n",
    "\n",
    "sfmax_vals, cls = torch.max(osoftmax_gpu, 1)\n",
    "\n",
    "osoftmax = 100 * osoftmax_gpu.cpu().detach().numpy()\n",
    "print(\"Softmax Outputs \\n{} \\nSofmax max values \\n{}\".format(osoftmax, sfmax_vals))\n",
    "torch.mean(sfmax_vals)"
   ]
  },
  {
   "cell_type": "code",
   "execution_count": 14,
   "metadata": {},
   "outputs": [
    {
     "data": {
      "text/plain": [
       "Model(\n",
       "  (data_bn): BatchNorm1d(54, eps=1e-05, momentum=0.1, affine=True, track_running_stats=True)\n",
       "  (st_gcn_networks): ModuleList(\n",
       "    (0): st_gcn(\n",
       "      (gcn): ConvTemporalGraphical(\n",
       "        (conv): Conv2d(3, 192, kernel_size=(1, 1), stride=(1, 1))\n",
       "      )\n",
       "      (tcn): Sequential(\n",
       "        (0): BatchNorm2d(64, eps=1e-05, momentum=0.1, affine=True, track_running_stats=True)\n",
       "        (1): ReLU(inplace)\n",
       "        (2): Conv2d(64, 64, kernel_size=(9, 1), stride=(1, 1), padding=(4, 0))\n",
       "        (3): BatchNorm2d(64, eps=1e-05, momentum=0.1, affine=True, track_running_stats=True)\n",
       "        (4): Dropout(p=0, inplace)\n",
       "      )\n",
       "      (relu): ReLU(inplace)\n",
       "    )\n",
       "    (1): st_gcn(\n",
       "      (gcn): ConvTemporalGraphical(\n",
       "        (conv): Conv2d(64, 192, kernel_size=(1, 1), stride=(1, 1))\n",
       "      )\n",
       "      (tcn): Sequential(\n",
       "        (0): BatchNorm2d(64, eps=1e-05, momentum=0.1, affine=True, track_running_stats=True)\n",
       "        (1): ReLU(inplace)\n",
       "        (2): Conv2d(64, 64, kernel_size=(9, 1), stride=(1, 1), padding=(4, 0))\n",
       "        (3): BatchNorm2d(64, eps=1e-05, momentum=0.1, affine=True, track_running_stats=True)\n",
       "        (4): Dropout(p=0, inplace)\n",
       "      )\n",
       "      (relu): ReLU(inplace)\n",
       "    )\n",
       "    (2): st_gcn(\n",
       "      (gcn): ConvTemporalGraphical(\n",
       "        (conv): Conv2d(64, 192, kernel_size=(1, 1), stride=(1, 1))\n",
       "      )\n",
       "      (tcn): Sequential(\n",
       "        (0): BatchNorm2d(64, eps=1e-05, momentum=0.1, affine=True, track_running_stats=True)\n",
       "        (1): ReLU(inplace)\n",
       "        (2): Conv2d(64, 64, kernel_size=(9, 1), stride=(1, 1), padding=(4, 0))\n",
       "        (3): BatchNorm2d(64, eps=1e-05, momentum=0.1, affine=True, track_running_stats=True)\n",
       "        (4): Dropout(p=0, inplace)\n",
       "      )\n",
       "      (relu): ReLU(inplace)\n",
       "    )\n",
       "    (3): st_gcn(\n",
       "      (gcn): ConvTemporalGraphical(\n",
       "        (conv): Conv2d(64, 192, kernel_size=(1, 1), stride=(1, 1))\n",
       "      )\n",
       "      (tcn): Sequential(\n",
       "        (0): BatchNorm2d(64, eps=1e-05, momentum=0.1, affine=True, track_running_stats=True)\n",
       "        (1): ReLU(inplace)\n",
       "        (2): Conv2d(64, 64, kernel_size=(9, 1), stride=(1, 1), padding=(4, 0))\n",
       "        (3): BatchNorm2d(64, eps=1e-05, momentum=0.1, affine=True, track_running_stats=True)\n",
       "        (4): Dropout(p=0, inplace)\n",
       "      )\n",
       "      (relu): ReLU(inplace)\n",
       "    )\n",
       "    (4): st_gcn(\n",
       "      (gcn): ConvTemporalGraphical(\n",
       "        (conv): Conv2d(64, 384, kernel_size=(1, 1), stride=(1, 1))\n",
       "      )\n",
       "      (tcn): Sequential(\n",
       "        (0): BatchNorm2d(128, eps=1e-05, momentum=0.1, affine=True, track_running_stats=True)\n",
       "        (1): ReLU(inplace)\n",
       "        (2): Conv2d(128, 128, kernel_size=(9, 1), stride=(2, 1), padding=(4, 0))\n",
       "        (3): BatchNorm2d(128, eps=1e-05, momentum=0.1, affine=True, track_running_stats=True)\n",
       "        (4): Dropout(p=0, inplace)\n",
       "      )\n",
       "      (residual): Sequential(\n",
       "        (0): Conv2d(64, 128, kernel_size=(1, 1), stride=(2, 1))\n",
       "        (1): BatchNorm2d(128, eps=1e-05, momentum=0.1, affine=True, track_running_stats=True)\n",
       "      )\n",
       "      (relu): ReLU(inplace)\n",
       "    )\n",
       "    (5): st_gcn(\n",
       "      (gcn): ConvTemporalGraphical(\n",
       "        (conv): Conv2d(128, 384, kernel_size=(1, 1), stride=(1, 1))\n",
       "      )\n",
       "      (tcn): Sequential(\n",
       "        (0): BatchNorm2d(128, eps=1e-05, momentum=0.1, affine=True, track_running_stats=True)\n",
       "        (1): ReLU(inplace)\n",
       "        (2): Conv2d(128, 128, kernel_size=(9, 1), stride=(1, 1), padding=(4, 0))\n",
       "        (3): BatchNorm2d(128, eps=1e-05, momentum=0.1, affine=True, track_running_stats=True)\n",
       "        (4): Dropout(p=0, inplace)\n",
       "      )\n",
       "      (relu): ReLU(inplace)\n",
       "    )\n",
       "    (6): st_gcn(\n",
       "      (gcn): ConvTemporalGraphical(\n",
       "        (conv): Conv2d(128, 384, kernel_size=(1, 1), stride=(1, 1))\n",
       "      )\n",
       "      (tcn): Sequential(\n",
       "        (0): BatchNorm2d(128, eps=1e-05, momentum=0.1, affine=True, track_running_stats=True)\n",
       "        (1): ReLU(inplace)\n",
       "        (2): Conv2d(128, 128, kernel_size=(9, 1), stride=(1, 1), padding=(4, 0))\n",
       "        (3): BatchNorm2d(128, eps=1e-05, momentum=0.1, affine=True, track_running_stats=True)\n",
       "        (4): Dropout(p=0, inplace)\n",
       "      )\n",
       "      (relu): ReLU(inplace)\n",
       "    )\n",
       "    (7): st_gcn(\n",
       "      (gcn): ConvTemporalGraphical(\n",
       "        (conv): Conv2d(128, 768, kernel_size=(1, 1), stride=(1, 1))\n",
       "      )\n",
       "      (tcn): Sequential(\n",
       "        (0): BatchNorm2d(256, eps=1e-05, momentum=0.1, affine=True, track_running_stats=True)\n",
       "        (1): ReLU(inplace)\n",
       "        (2): Conv2d(256, 256, kernel_size=(9, 1), stride=(2, 1), padding=(4, 0))\n",
       "        (3): BatchNorm2d(256, eps=1e-05, momentum=0.1, affine=True, track_running_stats=True)\n",
       "        (4): Dropout(p=0, inplace)\n",
       "      )\n",
       "      (residual): Sequential(\n",
       "        (0): Conv2d(128, 256, kernel_size=(1, 1), stride=(2, 1))\n",
       "        (1): BatchNorm2d(256, eps=1e-05, momentum=0.1, affine=True, track_running_stats=True)\n",
       "      )\n",
       "      (relu): ReLU(inplace)\n",
       "    )\n",
       "    (8): st_gcn(\n",
       "      (gcn): ConvTemporalGraphical(\n",
       "        (conv): Conv2d(256, 768, kernel_size=(1, 1), stride=(1, 1))\n",
       "      )\n",
       "      (tcn): Sequential(\n",
       "        (0): BatchNorm2d(256, eps=1e-05, momentum=0.1, affine=True, track_running_stats=True)\n",
       "        (1): ReLU(inplace)\n",
       "        (2): Conv2d(256, 256, kernel_size=(9, 1), stride=(1, 1), padding=(4, 0))\n",
       "        (3): BatchNorm2d(256, eps=1e-05, momentum=0.1, affine=True, track_running_stats=True)\n",
       "        (4): Dropout(p=0, inplace)\n",
       "      )\n",
       "      (relu): ReLU(inplace)\n",
       "    )\n",
       "    (9): st_gcn(\n",
       "      (gcn): ConvTemporalGraphical(\n",
       "        (conv): Conv2d(256, 768, kernel_size=(1, 1), stride=(1, 1))\n",
       "      )\n",
       "      (tcn): Sequential(\n",
       "        (0): BatchNorm2d(256, eps=1e-05, momentum=0.1, affine=True, track_running_stats=True)\n",
       "        (1): ReLU(inplace)\n",
       "        (2): Conv2d(256, 256, kernel_size=(9, 1), stride=(1, 1), padding=(4, 0))\n",
       "        (3): BatchNorm2d(256, eps=1e-05, momentum=0.1, affine=True, track_running_stats=True)\n",
       "        (4): Dropout(p=0, inplace)\n",
       "      )\n",
       "      (relu): ReLU(inplace)\n",
       "    )\n",
       "  )\n",
       "  (edge_importance): ParameterList(\n",
       "      (0): Parameter containing: [torch.cuda.FloatTensor of size 3x18x18 (GPU 0)]\n",
       "      (1): Parameter containing: [torch.cuda.FloatTensor of size 3x18x18 (GPU 0)]\n",
       "      (2): Parameter containing: [torch.cuda.FloatTensor of size 3x18x18 (GPU 0)]\n",
       "      (3): Parameter containing: [torch.cuda.FloatTensor of size 3x18x18 (GPU 0)]\n",
       "      (4): Parameter containing: [torch.cuda.FloatTensor of size 3x18x18 (GPU 0)]\n",
       "      (5): Parameter containing: [torch.cuda.FloatTensor of size 3x18x18 (GPU 0)]\n",
       "      (6): Parameter containing: [torch.cuda.FloatTensor of size 3x18x18 (GPU 0)]\n",
       "      (7): Parameter containing: [torch.cuda.FloatTensor of size 3x18x18 (GPU 0)]\n",
       "      (8): Parameter containing: [torch.cuda.FloatTensor of size 3x18x18 (GPU 0)]\n",
       "      (9): Parameter containing: [torch.cuda.FloatTensor of size 3x18x18 (GPU 0)]\n",
       "  )\n",
       "  (fcn): Conv2d(256, 4, kernel_size=(1, 1), stride=(1, 1))\n",
       ")"
      ]
     },
     "execution_count": 14,
     "metadata": {},
     "output_type": "execute_result"
    }
   ],
   "source": [
    "dev = 'cuda:0'\n",
    "model_ld = io.load_model(model_name, **model_args)\n",
    "model_ld.load_state_dict(torch.load(ft_weights_path))\n",
    "model_ld.to(dev)\n",
    "model_ld.eval()"
   ]
  },
  {
   "cell_type": "code",
   "execution_count": 32,
   "metadata": {},
   "outputs": [],
   "source": [
    "# Model Definitions for Testing\n",
    "loader = data_loader['mixed_test']\n",
    "model = model_ld\n",
    "loss_value = []\n",
    "result_frag = []\n",
    "label_frag = []\n",
    "outputs = []\n",
    "epoch_info = dict()\n",
    "confusion_mat = np.zeros([5,5], dtype=np.int32)\n",
    "evaluation = True\n",
    "softmax = nn.Softmax(dim=1)"
   ]
  },
  {
   "cell_type": "code",
   "execution_count": 33,
   "metadata": {},
   "outputs": [
    {
     "name": "stdout",
     "output_type": "stream",
     "text": [
      "torch.Size([32, 3, 300, 18, 2])\n",
      "torch.Size([32, 3, 300, 18, 2])\n",
      "torch.Size([32, 3, 300, 18, 2])\n",
      "torch.Size([32, 3, 300, 18, 2])\n",
      "torch.Size([32, 3, 300, 18, 2])\n",
      "torch.Size([32, 3, 300, 18, 2])\n",
      "torch.Size([32, 3, 300, 18, 2])\n",
      "torch.Size([32, 3, 300, 18, 2])\n",
      "torch.Size([32, 3, 300, 18, 2])\n",
      "torch.Size([32, 3, 300, 18, 2])\n",
      "torch.Size([32, 3, 300, 18, 2])\n",
      "torch.Size([32, 3, 300, 18, 2])\n",
      "torch.Size([32, 3, 300, 18, 2])\n",
      "torch.Size([32, 3, 300, 18, 2])\n",
      "torch.Size([32, 3, 300, 18, 2])\n",
      "torch.Size([32, 3, 300, 18, 2])\n",
      "torch.Size([32, 3, 300, 18, 2])\n",
      "torch.Size([32, 3, 300, 18, 2])\n",
      "torch.Size([32, 3, 300, 18, 2])\n",
      "torch.Size([30, 3, 300, 18, 2])\n"
     ]
    }
   ],
   "source": [
    "for itern, [data, label] in enumerate(loader):\n",
    "    # get data\n",
    "    print(data.shape)\n",
    "    data = data.float().cuda()\n",
    "    label_mapped = map2ind(label, from_arr=[59, 88, 134, 254], to_arr=None, def_val=0)\n",
    "    label = torch.from_numpy(label_mapped)\n",
    "    label = label.long().cuda()\n",
    "\n",
    "    # inference\n",
    "    with torch.no_grad():\n",
    "        output = model(data)\n",
    "    result_frag.append(output.data.cpu().numpy())\n",
    "\n",
    "    # get loss\n",
    "    if evaluation:\n",
    "        loss = loss_fn(output, label)\n",
    "        confusion_mat[label_mapped, np.argmax(output, axis=1)] += 1\n",
    "        loss_value.append(loss.item())\n",
    "        label_frag.append(label.data.cpu().numpy())\n",
    "        outputs.append([itern ,softmax(output).data.cpu().numpy()])\n",
    "\n",
    "result = np.concatenate(result_frag)\n",
    "# np.savetxt(\"kinetics400_confusion.csv\", confusion_mat)\n",
    "if evaluation:\n",
    "    label2 = np.concatenate(label_frag)\n",
    "    epoch_info['mean_loss'] = np.mean(loss_value)"
   ]
  },
  {
   "cell_type": "code",
   "execution_count": 56,
   "metadata": {},
   "outputs": [
    {
     "name": "stdout",
     "output_type": "stream",
     "text": [
      "0.8414951 0.5924338\n"
     ]
    }
   ],
   "source": [
    "len(outputs)\n",
    "out_sfmax = [np.array(sf) for i, sf in outputs]\n",
    "out_sfmax = np.concatenate(out_sfmax, axis=0)\n",
    "out_sfmax_max_vals = out_sfmax.max(axis=1)\n",
    "split_idx = 198\n",
    "normal_max_sfmax = out_sfmax_max_vals[:split_idx]\n",
    "abnormal_max_sfmax = out_sfmax_max_vals[split_idx:]\n",
    "print(normal_max_sfmax.mean(), abnormal_max_sfmax.mean())"
   ]
  },
  {
   "cell_type": "code",
   "execution_count": 24,
   "metadata": {},
   "outputs": [
    {
     "name": "stdout",
     "output_type": "stream",
     "text": [
      "Correct predictions\n",
      " tensor([0, 0, 0, 0, 0, 0, 0, 0, 0, 0, 0, 0, 0, 0, 0, 0, 1, 0, 0, 0, 0, 0, 0, 0,\n",
      "        0, 0, 0, 0, 1, 0], device='cuda:0', dtype=torch.uint8)\n",
      "Softmax Outputs \n",
      "[[ 2.38759  5.20045 70.42581 21.98615]\n",
      " [ 8.36586 29.51257 61.46564  0.65593]\n",
      " [11.35104 31.59918 56.79933  0.25046]\n",
      " [ 6.33818 20.43501 72.95511  0.2717 ]\n",
      " [ 8.35812 61.06318 29.97376  0.60494]\n",
      " [24.36323 37.54582 15.48518 22.60577]\n",
      " [22.42867 15.96951 61.32678  0.27504]\n",
      " [12.96688 21.66751 63.94969  1.41592]\n",
      " [13.37609 39.31338 47.09524  0.21529]\n",
      " [17.80134  4.89542 75.59003  1.7132 ]\n",
      " [ 3.57876 42.93718 52.99109  0.49297]\n",
      " [12.8463  66.03494 11.98808  9.13067]\n",
      " [14.22797 18.9969  66.46335  0.31178]\n",
      " [ 6.49656 12.19654 81.04906  0.25785]\n",
      " [ 5.17477  6.28993 84.54577  3.98953]\n",
      " [ 5.82527 67.57509 21.06733  5.53232]\n",
      " [44.60141 34.80457  9.69858 10.89543]\n",
      " [ 2.88564 15.39229 80.76624  0.95583]\n",
      " [34.07813 20.38449 35.18842 10.34897]\n",
      " [12.81423 47.49286 39.15441  0.53851]\n",
      " [20.93756 37.71311 19.37988 21.96946]\n",
      " [ 1.35392  3.57197 95.02151  0.05259]\n",
      " [ 2.37163 12.65399 83.55202  1.42236]\n",
      " [ 5.43316 56.15937 29.46066  8.94681]\n",
      " [17.16574 44.32728 29.53261  8.97437]\n",
      " [ 2.54808 46.54002 50.12445  0.78745]\n",
      " [ 9.34718 50.65613 10.03721 29.95948]\n",
      " [11.27103  9.35978 68.16151 11.20768]\n",
      " [53.34752 22.68132 19.06325  4.90792]\n",
      " [ 3.0825  37.10038 59.2999   0.51722]] \n",
      "Sofmax max values \n",
      "tensor([0.7043, 0.6147, 0.5680, 0.7296, 0.6106, 0.3755, 0.6133, 0.6395, 0.4710,\n",
      "        0.7559, 0.5299, 0.6603, 0.6646, 0.8105, 0.8455, 0.6758, 0.4460, 0.8077,\n",
      "        0.3519, 0.4749, 0.3771, 0.9502, 0.8355, 0.5616, 0.4433, 0.5012, 0.5066,\n",
      "        0.6816, 0.5335, 0.5930], device='cuda:0')\n"
     ]
    },
    {
     "data": {
      "text/plain": [
       "tensor(0.6111, device='cuda:0')"
      ]
     },
     "execution_count": 24,
     "metadata": {},
     "output_type": "execute_result"
    }
   ],
   "source": [
    "# For output evaluation\n",
    "sfmax_vals, cls = torch.max(output, 1)\n",
    "print(\"Correct predictions\\n {}\".format(cls==label))\n",
    "softmax = nn.Softmax(dim=1)\n",
    "osoftmax_gpu = softmax(output)\n",
    "\n",
    "sfmax_vals, cls = torch.max(osoftmax_gpu, 1)\n",
    "\n",
    "osoftmax = 100 * osoftmax_gpu.cpu().detach().numpy()\n",
    "print(\"Softmax Outputs \\n{} \\nSofmax max values \\n{}\".format(osoftmax, sfmax_vals))\n",
    "torch.mean(sfmax_vals)"
   ]
  },
  {
   "cell_type": "code",
   "execution_count": 70,
   "metadata": {},
   "outputs": [
    {
     "data": {
      "text/plain": [
       "0.8728076216712579"
      ]
     },
     "execution_count": 70,
     "metadata": {},
     "output_type": "execute_result"
    }
   ],
   "source": [
    "from sklearn.metrics import roc_curve, auc\n",
    "\n",
    "true_labels = np.concatenate((np.ones_like(normal_max_sfmax), np.zeros_like(abnormal_max_sfmax)))\n",
    "fpr, tpr, thresholds = roc_curve(true_labels, out_sfmax_max_vals)\n",
    "roc_auc = auc(fpr, tpr)\n",
    "\n",
    "roc_auc"
   ]
  },
  {
   "cell_type": "code",
   "execution_count": 79,
   "metadata": {},
   "outputs": [
    {
     "name": "stdout",
     "output_type": "stream",
     "text": [
      "0.8333333333333334 0.21818181818181817 0.7131677\n"
     ]
    }
   ],
   "source": [
    "ind=95\n",
    "print(tpr[ind], fpr[ind], thresholds[ind])"
   ]
  },
  {
   "cell_type": "code",
   "execution_count": 71,
   "metadata": {},
   "outputs": [
    {
     "data": {
      "image/png": "[encoded data removed]",
      "text/plain": [
       "<Figure size 432x288 with 1 Axes>"
      ]
     },
     "metadata": {
      "needs_background": "light"
     },
     "output_type": "display_data"
    }
   ],
   "source": [
    "plt.figure()\n",
    "plt.plot(fpr, tpr, color='darkorange', lw=2, label='ROC curve (area = %0.3f)' % roc_auc)\n",
    "plt.plot([0, 1], [0, 1], color='navy', lw=2, linestyle='--')\n",
    "plt.xlim([0.0, 1.0])\n",
    "plt.ylim([0.0, 1.05])\n",
    "plt.xlabel('False Positive Rate')\n",
    "plt.ylabel('True Positive Rate')\n",
    "plt.title('RoC curve for abnormal class detection')\n",
    "plt.legend(loc=\"lower right\")\n",
    "plt.show()"
   ]
  }
 ],
 "metadata": {
  "kernelspec": {
   "display_name": "Python 3",
   "language": "python",
   "name": "python3"
  },
  "language_info": {
   "codemirror_mode": {
    "name": "ipython",
    "version": 3
   },
   "file_extension": ".py",
   "mimetype": "text/x-python",
   "name": "python",
   "nbconvert_exporter": "python",
   "pygments_lexer": "ipython3",
   "version": "3.5.2"
  }
 },
 "nbformat": 4,
 "nbformat_minor": 2
}
